{
  "nbformat": 4,
  "nbformat_minor": 0,
  "metadata": {
    "colab": {
      "provenance": [],
      "authorship_tag": "ABX9TyNC4UBIIvq51Zsdf+AEZ63Q",
      "include_colab_link": true
    },
    "kernelspec": {
      "name": "python3",
      "display_name": "Python 3"
    },
    "language_info": {
      "name": "python"
    }
  },
  "cells": [
    {
      "cell_type": "markdown",
      "metadata": {
        "id": "view-in-github",
        "colab_type": "text"
      },
      "source": [
        "<a href=\"https://colab.research.google.com/github/Bhargav-Gondesi-4/Group_1_MSITM_Python/blob/main/Demo.ipynb\" target=\"_parent\"><img src=\"https://colab.research.google.com/assets/colab-badge.svg\" alt=\"Open In Colab\"/></a>"
      ]
    },
    {
      "cell_type": "code",
      "execution_count": 1,
      "metadata": {
        "colab": {
          "base_uri": "https://localhost:8080/"
        },
        "id": "Gn2fTbDqr6t5",
        "outputId": "2b82a81f-7352-487b-ffb6-65410fa69724"
      },
      "outputs": [
        {
          "output_type": "stream",
          "name": "stdout",
          "text": [
            "Enter a number: 10\n",
            "Enter a number: 15\n",
            "25\n",
            "-5\n",
            "150\n",
            "0.6666666666666666\n"
          ]
        }
      ],
      "source": [
        "def sum(a,b):\n",
        "    return a+b\n",
        "\n",
        "def sub(a,b):\n",
        "    return a-b\n",
        "\n",
        "def mul(a,b):\n",
        "    return a*b\n",
        "\n",
        "def div(a,b):\n",
        "    return a/b\n",
        "\n",
        "a = int(input(\"Enter a number: \"))\n",
        "b = int(input(\"Enter a number: \"))\n",
        "\n",
        "print(sum(a,b))\n",
        "print(sub(a,b))\n",
        "print(mul(a,b))\n",
        "print(div(a,b))"
      ]
    }
  ]
}